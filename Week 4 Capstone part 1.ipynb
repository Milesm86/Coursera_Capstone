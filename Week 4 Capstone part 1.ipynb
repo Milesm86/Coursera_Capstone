{
 "cells": [
  {
   "cell_type": "markdown",
   "metadata": {},
   "source": [
    "## Applied Data Science Capstone Final Project\n",
    "### Differences between New York and Toronto: Which city is more like the other?\n",
    "\n",
    "### Presented by Marcus Miles\n",
    "\n"
   ]
  },
  {
   "cell_type": "markdown",
   "metadata": {},
   "source": [
    "### 1. Project Description\n",
    "    This project will examine the differences between the two major cities of New York and Toronto in order to distinguish which city is more like the other based on the characteristics of their neighborhoods. New York is one of the most densely populated cities in the East Coast of the United States and is considered one of the financial capitals of the world. Toronto is one of the most popular destinations to visit in Canada and is also the most populated city within Canada with a population of over 2.8 million people. \n",
    "    \n",
    "    I would make the assumptions that both New York and Toronto are very similar in their characteristics given how they are the most populated cities in their respective areas and how many businesses have locations within the city. This analysis will focus on key areas such as parks, museums, etc to show how similar/different the two cities are from each other. "
   ]
  },
  {
   "cell_type": "markdown",
   "metadata": {},
   "source": [
    "### 2. Description of Data\n",
    "\n",
    "The data will be from three different souces:\n",
    "   1. Toronto, Canada data: https://en.wikipedia.org/wiki/List_of_postal_codes_of_Canada:_M\n",
    "   2. New York Data: https://geo.nyu.edu/catalog/nyu_2451_34572\n",
    "   3. Foursquare venues data: https://foursquare.com/"
   ]
  },
  {
   "cell_type": "code",
   "execution_count": null,
   "metadata": {},
   "outputs": [],
   "source": []
  }
 ],
 "metadata": {
  "kernelspec": {
   "display_name": "Python 3",
   "language": "python",
   "name": "python3"
  },
  "language_info": {
   "codemirror_mode": {
    "name": "ipython",
    "version": 3
   },
   "file_extension": ".py",
   "mimetype": "text/x-python",
   "name": "python",
   "nbconvert_exporter": "python",
   "pygments_lexer": "ipython3",
   "version": "3.7.3"
  }
 },
 "nbformat": 4,
 "nbformat_minor": 4
}
